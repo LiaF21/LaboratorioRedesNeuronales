{
 "cells": [
  {
   "cell_type": "code",
   "execution_count": 1,
   "id": "beeb94cc-d62f-445e-bd7a-af6f38c2d998",
   "metadata": {},
   "outputs": [
    {
     "name": "stdout",
     "output_type": "stream",
     "text": [
      "Salida con activación: [[0.05 0.14]]\n",
      "Salida lineal: [[0.05 0.14]]\n",
      "Sigmoid: [0.5        0.88079708 0.26894142]\n"
     ]
    }
   ],
   "source": [
    "import DnnLib\n",
    "import numpy as np\n",
    "\n",
    "# Crear datos de entrada \n",
    "x = np.array([[0.5, -0.2, 0.1]]) \n",
    "# Crear capa densa: 3 entradas, 2 salidas, con activación ReLU \n",
    "layer = DnnLib.DenseLayer(3, 2, DnnLib.ActivationType.RELU) \n",
    "# Modificar manualmente los pesos y bias \n",
    "layer.weights = np.array([[0.1, 0.2, 0.3], \n",
    "[0.4, 0.5, 0.6]]) \n",
    "layer.bias = np.array([0.01, -0.02]) \n",
    "# Forward con activación \n",
    "y = layer.forward(x) \n",
    "print(\"Salida con activación:\", y) \n",
    "# Forward lineal (sin activación) \n",
    "y_lin = layer.forward_linear(x) \n",
    "print(\"Salida lineal:\", y_lin) \n",
    "# Aplicar activaciones directamente \n",
    "print(\"Sigmoid:\", DnnLib.sigmoid(np.array([0.0, 2.0, -1.0]))) "
   ]
  },
  {
   "cell_type": "code",
   "execution_count": 3,
   "id": "e7803698-2faa-4e70-a725-fa2cc95afce4",
   "metadata": {},
   "outputs": [
    {
     "data": {
      "image/png": "[encoded data removed]",
      "text/plain": [
       "<Figure size 600x600 with 9 Axes>"
      ]
     },
     "metadata": {},
     "output_type": "display_data"
    }
   ],
   "source": [
    "import numpy as np\n",
    "import matplotlib.pyplot as plt\n",
    "\n",
    "data = np.load(\"mnist_train.npz\")\n",
    "images = data[\"images\"]\n",
    "labels = data[\"labels\"]\n",
    "\n",
    "plt.figure(figsize=(6,6))\n",
    "for i in range(9):\n",
    "    plt.subplot(3, 3, i+1)\n",
    "    plt.imshow(images[i], cmap=\"gray\")\n",
    "    plt.title(f\"Label: {labels[i]}\")\n",
    "    plt.axis(\"off\")\n",
    "plt.show()"
   ]
  },
  {
   "cell_type": "code",
   "execution_count": 1,
   "id": "15344a24-cac6-460e-857e-2142a80f0892",
   "metadata": {},
   "outputs": [],
   "source": [
    "\n",
    "import DnnLib\n",
    "import numpy as np\n",
    "# Create sample data (XOR problem)\n",
    "X = np.array([[0, 0], [0, 1], [1, 0], [1, 1]], dtype=np.float64)\n",
    "y = np.array([[0], [1], [1], [0]], dtype=np.float64)\n",
    "# Create a neural network: 2 -> 4 -> 1\n",
    "layer1 = DnnLib.DenseLayer(2, 4, DnnLib.ActivationType.RELU)\n",
    "layer2 = DnnLib.DenseLayer(4, 1, DnnLib.ActivationType.SIGMOID)\n",
    "optimizer = DnnLib.Adam(learning_rate=0.01)\n",
    "\n",
    "# Training loop\n",
    "for epoch in range(100):\n",
    "    # Forward pass\n",
    "    h1 = layer1.forward(X)\n",
    "    output = layer2.forward(h1)\n",
    "    # Compute loss\n",
    "    loss = DnnLib.mse(output, y)\n",
    "    # Backward pass\n",
    "    loss_grad = DnnLib.mse_gradient(output, y)\n",
    "    grad2 = layer2.backward(loss_grad)\n",
    "    grad1 = layer1.backward(grad2)\n",
    "    # Update parameters\n",
    "    optimizer.update(layer2)\n",
    "    optimizer.update(layer1)\n",
    "    if epoch % 20 == 0:\n",
    "        print(f\"Epoch {epoch}, Loss: {loss:.6f}\")"
   ]
  },
  {
   "cell_type": "code",
   "execution_count": null,
   "id": "31723f49-bdbc-47e0-b314-c3eb8f6f152b",
   "metadata": {},
   "outputs": [],
   "source": []
  }
 ],
 "metadata": {
  "kernelspec": {
   "display_name": "Python 3 (ipykernel)",
   "language": "python",
   "name": "python3"
  },
  "language_info": {
   "codemirror_mode": {
    "name": "ipython",
    "version": 3
   },
   "file_extension": ".py",
   "mimetype": "text/x-python",
   "name": "python",
   "nbconvert_exporter": "python",
   "pygments_lexer": "ipython3",
   "version": "3.10.18"
  }
 },
 "nbformat": 4,
 "nbformat_minor": 5
}
