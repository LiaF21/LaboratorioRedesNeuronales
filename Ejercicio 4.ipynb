{
 "cells": [
  {
   "cell_type": "code",
   "execution_count": null,
   "id": "91efa27e-c5b2-486a-8371-c692e763ace6",
   "metadata": {},
   "outputs": [
    {
     "name": "stdout",
     "output_type": "stream",
     "text": [
      "Epoch 0, Loss: 0.090013\n"
     ]
    }
   ],
   "source": [
    "import DnnLib as Dn\n",
    "import numpy as np \n",
    "import json \n",
    "import matplotlib.pyplot as plt\n",
    "\n",
    "data = np.load(\"mnist_train.npz\")\n",
    "images = data[\"images\"]\n",
    "labels = data[\"labels\"]\n",
    "\n",
    "with open(\"mnist_mlp_pretty.json\") as f:\n",
    "    file = json.load(f)\n",
    "    labels_onehot = np.eye(10)[labels]\n",
    "    datos = (images / file[\"preprocess\"][\"scale\"]).reshape(images.shape[0], -1)\n",
    "    layer1 = Dn.DenseLayer(784, file[\"layers\"][0][\"units\"], Dn.ActivationType.RELU)\n",
    "    layer1.weights = np.random.randn(128, 784) * 0.01\n",
    "    layer1.bias = np.zeros((128,))\n",
    "    \n",
    "    layer2 = Dn.DenseLayer(file[\"layers\"][0][\"units\"], file[\"layers\"][1][\"units\"] , Dn.ActivationType.SOFTMAX)\n",
    "    layer2.weights = np.random.randn(10, 128) * 0.01\n",
    "    layer2.bias = np.zeros((10,))\n",
    "    \n",
    "    optimizer = Dn.Adam(learning_rate=0.01)\n",
    "    \n",
    "    for epoch in range(10):\n",
    "        h1 = layer1.forward(datos)\n",
    "        output = layer2.forward(h1)\n",
    "        loss = Dn.mse(output, labels_onehot)\n",
    "        loss_grad = Dn.mse_gradient(output, labels_onehot)\n",
    "        grad2 = layer2.backward(loss_grad)\n",
    "        grad1 = layer1.backward(grad2)\n",
    "        \n",
    "        optimizer.update(layer2)\n",
    "        optimizer.update(layer1)\n",
    "        #if epoch % 20 == 0:\n",
    "        print(f\"Epoch {epoch}, Loss: {loss:.6f}\")\n"
   ]
  },
  {
   "cell_type": "code",
   "execution_count": null,
   "id": "e6d14fa9-63ed-4376-8840-c4cd73494da4",
   "metadata": {},
   "outputs": [],
   "source": []
  }
 ],
 "metadata": {
  "kernelspec": {
   "display_name": "Python 3 (ipykernel)",
   "language": "python",
   "name": "python3"
  },
  "language_info": {
   "codemirror_mode": {
    "name": "ipython",
    "version": 3
   },
   "file_extension": ".py",
   "mimetype": "text/x-python",
   "name": "python",
   "nbconvert_exporter": "python",
   "pygments_lexer": "ipython3",
   "version": "3.10.18"
  }
 },
 "nbformat": 4,
 "nbformat_minor": 5
}
