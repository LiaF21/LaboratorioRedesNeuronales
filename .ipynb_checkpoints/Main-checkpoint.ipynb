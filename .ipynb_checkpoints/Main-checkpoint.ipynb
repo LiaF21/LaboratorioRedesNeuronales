{
 "cells": [
  {
   "cell_type": "code",
   "execution_count": 14,
   "id": "128aa717-523d-4120-b340-4f634db1f5f8",
   "metadata": {},
   "outputs": [
    {
     "ename": "IndentationError",
     "evalue": "unindent does not match any outer indentation level (<tokenize>, line 35)",
     "output_type": "error",
     "traceback": [
      "\u001b[0;36m  File \u001b[0;32m<tokenize>:35\u001b[0;36m\u001b[0m\n\u001b[0;31m    plt.subplot(3, 3, (i % 9) + 1)\u001b[0m\n\u001b[0m    ^\u001b[0m\n\u001b[0;31mIndentationError\u001b[0m\u001b[0;31m:\u001b[0m unindent does not match any outer indentation level\n"
     ]
    }
   ],
   "source": [
    "import DnnLib as Dn\n",
    "import numpy as np \n",
    "import json \n",
    "import matplotlib.pyplot as plt\n",
    "\n",
    "data = np.load(\"mnist_train.npz\")\n",
    "images = data[\"images\"]\n",
    "labels = data[\"labels\"]\n",
    "\n",
    "with open(\"mnist_mlp_pretty.json\") as f:\n",
    "  file = json.load(f)\n",
    "    \n",
    "datos = (images / file[\"preprocess\"][\"scale\"]).reshape(images.shape[0], -1)\n",
    "layer1 = Dn.DenseLayer(784, file[\"layers\"][0][\"units\"], Dn.ActivationType.RELU)\n",
    "layer1.weights = np.array(file[\"layers\"][0][\"W\"]).T\n",
    "layer1.bias = np.array(file[\"layers\"][0][\"b\"])\n",
    "\n",
    "layer2 = Dn.DenseLayer(file[\"layers\"][0][\"units\"], file[\"layers\"][1][\"units\"] , Dn.ActivationType.SOFTMAX)\n",
    "layer2.weights = np.array(file[\"layers\"][1][\"W\"]).T\n",
    "layer2.bias = np.array(file[\"layers\"][1][\"b\"])\n",
    "\n",
    "\n",
    "Output = layer1.forward(datos)\n",
    "Resultado = layer2.forward(Output)\n",
    "\n",
    "predictions = np.argmax(Resultado, axis=1)\n",
    "accuracy = np.mean(predictions== labels)\n",
    "print(\"Precision del modelo: \",accuracy)\n",
    "plt.figure(figsize=(6,6))\n",
    "for i in range(len(images)):\n",
    "    if i % 9 == 0 and i != 0:\n",
    "        plt.show()\n",
    "        plt.figure(figsize=(6,6))\n",
    "    \n",
    "    plt.subplot(3, 3, (i % 9) + 1)\n",
    "    plt.imshow(images[i], cmap=\"gray\")\n",
    "    plt.title(f\"Label: {labels[i]} Pred: {predictions[i]}\")\n",
    "    plt.axis(\"off\")\n",
    "plt.show()\n",
    "    \n",
    "\n"
   ]
  },
  {
   "cell_type": "code",
   "execution_count": null,
   "id": "6e80f4bb-5dbe-492a-bdfe-91c10670192c",
   "metadata": {},
   "outputs": [],
   "source": []
  },
  {
   "cell_type": "code",
   "execution_count": null,
   "id": "3b66fd56-2e1c-467a-bf53-3b09ca829ab0",
   "metadata": {},
   "outputs": [],
   "source": []
  }
 ],
 "metadata": {
  "kernelspec": {
   "display_name": "Python 3 (ipykernel)",
   "language": "python",
   "name": "python3"
  },
  "language_info": {
   "codemirror_mode": {
    "name": "ipython",
    "version": 3
   },
   "file_extension": ".py",
   "mimetype": "text/x-python",
   "name": "python",
   "nbconvert_exporter": "python",
   "pygments_lexer": "ipython3",
   "version": "3.10.18"
  }
 },
 "nbformat": 4,
 "nbformat_minor": 5
}
